{
 "cells": [
  {
   "cell_type": "code",
   "execution_count": 1,
   "id": "82aa3216",
   "metadata": {},
   "outputs": [],
   "source": [
    "import pandas as pd\n",
    "import numpy as np\n",
    "import matplotlib.pyplot as plt\n",
    "%matplotlib inline"
   ]
  },
  {
   "cell_type": "markdown",
   "id": "431feb75",
   "metadata": {},
   "source": [
    "#1"
   ]
  },
  {
   "cell_type": "code",
   "execution_count": 2,
   "id": "959ed7dc",
   "metadata": {},
   "outputs": [
    {
     "data": {
      "text/html": [
       "<div>\n",
       "<style scoped>\n",
       "    .dataframe tbody tr th:only-of-type {\n",
       "        vertical-align: middle;\n",
       "    }\n",
       "\n",
       "    .dataframe tbody tr th {\n",
       "        vertical-align: top;\n",
       "    }\n",
       "\n",
       "    .dataframe thead th {\n",
       "        text-align: right;\n",
       "    }\n",
       "</style>\n",
       "<table border=\"1\" class=\"dataframe\">\n",
       "  <thead>\n",
       "    <tr style=\"text-align: right;\">\n",
       "      <th></th>\n",
       "      <th>Age</th>\n",
       "      <th>Nationality</th>\n",
       "      <th>Overall</th>\n",
       "    </tr>\n",
       "  </thead>\n",
       "  <tbody>\n",
       "    <tr>\n",
       "      <th>1</th>\n",
       "      <td>35</td>\n",
       "      <td>Portugal</td>\n",
       "      <td>94</td>\n",
       "    </tr>\n",
       "    <tr>\n",
       "      <th>2</th>\n",
       "      <td>33</td>\n",
       "      <td>Argentina</td>\n",
       "      <td>93</td>\n",
       "    </tr>\n",
       "    <tr>\n",
       "      <th>3</th>\n",
       "      <td>30</td>\n",
       "      <td>Brazil</td>\n",
       "      <td>92</td>\n",
       "    </tr>\n",
       "  </tbody>\n",
       "</table>\n",
       "</div>"
      ],
      "text/plain": [
       "   Age Nationality  Overall\n",
       "1   35    Portugal       94\n",
       "2   33   Argentina       93\n",
       "3   30      Brazil       92"
      ]
     },
     "execution_count": 2,
     "metadata": {},
     "output_type": "execute_result"
    }
   ],
   "source": [
    "# Given that\n",
    "lst = [[35, 'Portugal', 94], [33, 'Argentina', 93], [30 , 'Brazil', 92]]\n",
    "col = ['Age','Nationality','Overall']\n",
    "\n",
    "# To create a dataframe using these list we use\n",
    "pd.DataFrame(lst,columns=col, index=[1,2,3])"
   ]
  },
  {
   "cell_type": "markdown",
   "id": "862cb9b6",
   "metadata": {},
   "source": [
    "#2\n",
    "\n",
    "what would the output of the code give?"
   ]
  },
  {
   "cell_type": "code",
   "execution_count": 3,
   "id": "a88c3c9e",
   "metadata": {},
   "outputs": [
    {
     "ename": "TypeError",
     "evalue": "'tuple' object does not support item assignment",
     "output_type": "error",
     "traceback": [
      "\u001b[1;31m---------------------------------------------------------------------------\u001b[0m",
      "\u001b[1;31mTypeError\u001b[0m                                 Traceback (most recent call last)",
      "\u001b[1;32m~\\AppData\\Local\\Temp\\ipykernel_8288\\3917941094.py\u001b[0m in \u001b[0;36m<module>\u001b[1;34m\u001b[0m\n\u001b[0;32m      1\u001b[0m \u001b[0mmy_tuppy\u001b[0m \u001b[1;33m=\u001b[0m \u001b[1;33m(\u001b[0m\u001b[1;36m1\u001b[0m\u001b[1;33m,\u001b[0m\u001b[1;36m2\u001b[0m\u001b[1;33m,\u001b[0m\u001b[1;36m5\u001b[0m\u001b[1;33m,\u001b[0m\u001b[1;36m8\u001b[0m\u001b[1;33m)\u001b[0m\u001b[1;33m\u001b[0m\u001b[1;33m\u001b[0m\u001b[0m\n\u001b[0;32m      2\u001b[0m \u001b[1;33m\u001b[0m\u001b[0m\n\u001b[1;32m----> 3\u001b[1;33m \u001b[0mmy_tuppy\u001b[0m\u001b[1;33m[\u001b[0m\u001b[1;36m2\u001b[0m\u001b[1;33m]\u001b[0m \u001b[1;33m=\u001b[0m \u001b[1;36m6\u001b[0m\u001b[1;33m\u001b[0m\u001b[1;33m\u001b[0m\u001b[0m\n\u001b[0m",
      "\u001b[1;31mTypeError\u001b[0m: 'tuple' object does not support item assignment"
     ]
    }
   ],
   "source": [
    "my_tuppy = (1,2,5,8)\n",
    "\n",
    "my_tuppy[2] = 6"
   ]
  },
  {
   "cell_type": "markdown",
   "id": "154e7c74",
   "metadata": {},
   "source": [
    "#3\n",
    "\n",
    "What would be the output for?"
   ]
  },
  {
   "cell_type": "code",
   "execution_count": null,
   "id": "7ca969fc",
   "metadata": {},
   "outputs": [],
   "source": [
    "S = [['him', 'sell'], [90, 28, 43]]\n",
    "\n",
    "S[0][1][1]"
   ]
  },
  {
   "cell_type": "markdown",
   "id": "8a14a27d",
   "metadata": {},
   "source": [
    "## Importing the dataset"
   ]
  },
  {
   "cell_type": "code",
   "execution_count": null,
   "id": "c85d33a3",
   "metadata": {},
   "outputs": [],
   "source": [
    "df = pd.read_csv('FoodBalanceSheets_E_Africa_NOFLAG.csv', encoding='latin-1')"
   ]
  },
  {
   "cell_type": "markdown",
   "id": "87462f4a",
   "metadata": {},
   "source": [
    "#4\n",
    "\n",
    "What is the total sum of Wine produced in 2015 and 2018 respectively?"
   ]
  },
  {
   "cell_type": "code",
   "execution_count": null,
   "id": "91b1a165",
   "metadata": {},
   "outputs": [],
   "source": [
    "df[df['Item'] == 'Fruits - Excluding Wine'][['Y2018','Y2015']].sum()"
   ]
  },
  {
   "cell_type": "markdown",
   "id": "602e5040",
   "metadata": {},
   "source": [
    "#5\n",
    "\n",
    "Which of these Areas had the 7th lowest sum in 2017?"
   ]
  },
  {
   "cell_type": "code",
   "execution_count": null,
   "id": "cbd28181",
   "metadata": {},
   "outputs": [],
   "source": [
    "df[['Y2017','Area']].groupby('Area').sum().sort_values(by='Y2017').head(7)\n",
    "\n",
    "#ans = Guinea-Bissau"
   ]
  },
  {
   "cell_type": "markdown",
   "id": "d23197a5",
   "metadata": {},
   "source": [
    "#6"
   ]
  },
  {
   "cell_type": "code",
   "execution_count": null,
   "id": "346d76a8",
   "metadata": {},
   "outputs": [],
   "source": []
  },
  {
   "cell_type": "markdown",
   "id": "6f1cbbd1",
   "metadata": {},
   "source": [
    "#7\n",
    "\n",
    "What year has the highest sum of Stock Variation?"
   ]
  },
  {
   "cell_type": "code",
   "execution_count": null,
   "id": "c752b8b8",
   "metadata": {},
   "outputs": [],
   "source": [
    "df.groupby('Element').sum().loc['Stock Variation']\n",
    "\n",
    "# ans is Y2017 with 54,316.91"
   ]
  },
  {
   "cell_type": "markdown",
   "id": "0bb70500",
   "metadata": {},
   "source": [
    "#8"
   ]
  },
  {
   "cell_type": "code",
   "execution_count": null,
   "id": "03de26c2",
   "metadata": {},
   "outputs": [],
   "source": []
  },
  {
   "cell_type": "code",
   "execution_count": null,
   "id": "856322df",
   "metadata": {},
   "outputs": [],
   "source": []
  },
  {
   "cell_type": "markdown",
   "id": "fdbbce42",
   "metadata": {},
   "source": [
    "#10\n",
    "\n",
    "How would you assign element 8 from the list to a variable x?"
   ]
  },
  {
   "cell_type": "code",
   "execution_count": null,
   "id": "474c60bd",
   "metadata": {},
   "outputs": [],
   "source": [
    "y = [(2, 4), (7, 8), (1, 5, 9)]\n",
    "# to assign element '8' to x, we use\n",
    "x = y[1][1]\n",
    "x"
   ]
  },
  {
   "cell_type": "markdown",
   "id": "8eaa5c8c",
   "metadata": {},
   "source": [
    "#11\n",
    "\n",
    "What is the total number and percentage of missing data in 2014 to 3 decimal places?"
   ]
  },
  {
   "cell_type": "code",
   "execution_count": null,
   "id": "9b7913ca",
   "metadata": {},
   "outputs": [],
   "source": [
    "print(df['Y2014'].isnull().sum()) # Prints the total number of null values\n",
    "\n",
    "print((df['Y2014'].isnull().sum()/len(df['Y2014'])*100)) #prints the percentage"
   ]
  },
  {
   "cell_type": "markdown",
   "id": "c7b28089",
   "metadata": {},
   "source": [
    "#12\n",
    "\n",
    "How would you select  the elements in bold and italics from the array?"
   ]
  },
  {
   "cell_type": "code",
   "execution_count": null,
   "id": "5fb1c4cc",
   "metadata": {},
   "outputs": [],
   "source": [
    "# Given\n",
    "array  = ([[94, 89, 63],[93, 92, 48],[92, 94, 56]])\n",
    "array[ : 2,1: ]"
   ]
  },
  {
   "cell_type": "markdown",
   "id": "95403ee2",
   "metadata": {},
   "source": [
    "#13\n",
    "\n",
    "What is the total number of the sum of Processing in 2017?"
   ]
  },
  {
   "cell_type": "code",
   "execution_count": null,
   "id": "a1c518ba",
   "metadata": {},
   "outputs": [],
   "source": [
    "# Total number of the sum of Processing in 2017\n",
    "df.groupby('Element').sum().loc['Processing']['Y2017']"
   ]
  },
  {
   "cell_type": "markdown",
   "id": "1ec9ebd1",
   "metadata": {},
   "source": [
    "#14\n",
    "\n",
    "What is the total number of unique countries in the dataset?"
   ]
  },
  {
   "cell_type": "code",
   "execution_count": null,
   "id": "a9c3acc3",
   "metadata": {},
   "outputs": [],
   "source": [
    "# Number of Unique countries in the dataset\n",
    "df['Area'].nunique()"
   ]
  },
  {
   "cell_type": "markdown",
   "id": "cd3f8736",
   "metadata": {},
   "source": [
    "#17\n",
    "\n",
    "Which of these Areas had the highest sum in 2017?"
   ]
  },
  {
   "cell_type": "code",
   "execution_count": null,
   "id": "1f925161",
   "metadata": {},
   "outputs": [],
   "source": [
    "df[['Y2017','Area']].groupby('Area').sum().sort_values(by='Y2017').tail(1)"
   ]
  },
  {
   "cell_type": "markdown",
   "id": "06f746e6",
   "metadata": {},
   "source": [
    "#18\n",
    "\n",
    "What is the mean and standard deviation across the whole dataset for the year 2017 to 2 decimal places?"
   ]
  },
  {
   "cell_type": "code",
   "execution_count": null,
   "id": "70494fda",
   "metadata": {},
   "outputs": [],
   "source": [
    "print(df['Y2017'].mean())\n",
    "print(df['Y2017'].std())"
   ]
  },
  {
   "cell_type": "markdown",
   "id": "9c8e4fc7",
   "metadata": {},
   "source": [
    "#19\n",
    "\n",
    "What is the total Protein supply quantity in Madagascar in 2015?"
   ]
  },
  {
   "cell_type": "code",
   "execution_count": null,
   "id": "e0145fb8",
   "metadata": {},
   "outputs": [],
   "source": [
    "df[df['Area']== 'Madagascar'].groupby('Element').sum()['Y2015']\n",
    "\n",
    "# ans 173.05"
   ]
  },
  {
   "cell_type": "markdown",
   "id": "b561b1fc",
   "metadata": {},
   "source": [
    "#20\n",
    "\n",
    "Which year had the least correlation with ‘Element Code’?"
   ]
  },
  {
   "cell_type": "code",
   "execution_count": null,
   "id": "2cdeead0",
   "metadata": {},
   "outputs": [],
   "source": [
    "df.corr()['Element Code']\n",
    "# ans= Area Code"
   ]
  },
  {
   "cell_type": "markdown",
   "id": "27e7251b",
   "metadata": {},
   "source": []
  }
 ],
 "metadata": {
  "kernelspec": {
   "display_name": "Python 3 (ipykernel)",
   "language": "python",
   "name": "python3"
  },
  "language_info": {
   "codemirror_mode": {
    "name": "ipython",
    "version": 3
   },
   "file_extension": ".py",
   "mimetype": "text/x-python",
   "name": "python",
   "nbconvert_exporter": "python",
   "pygments_lexer": "ipython3",
   "version": "3.9.13"
  }
 },
 "nbformat": 4,
 "nbformat_minor": 5
}
