{
 "cells": [
  {
   "cell_type": "code",
   "execution_count": 1,
   "id": "11d32002",
   "metadata": {},
   "outputs": [],
   "source": [
    "# Import the necessary libraries\n",
    "import pandas as pd\n",
    "import numpy as np"
   ]
  },
  {
   "cell_type": "code",
   "execution_count": 2,
   "id": "b831eebf",
   "metadata": {},
   "outputs": [],
   "source": [
    "# import the dataset\n",
    "df = pd.read_csv('energydata_complete.csv')"
   ]
  },
  {
   "cell_type": "code",
   "execution_count": 3,
   "id": "4926650c",
   "metadata": {},
   "outputs": [
    {
     "data": {
      "text/html": [
       "<div>\n",
       "<style scoped>\n",
       "    .dataframe tbody tr th:only-of-type {\n",
       "        vertical-align: middle;\n",
       "    }\n",
       "\n",
       "    .dataframe tbody tr th {\n",
       "        vertical-align: top;\n",
       "    }\n",
       "\n",
       "    .dataframe thead th {\n",
       "        text-align: right;\n",
       "    }\n",
       "</style>\n",
       "<table border=\"1\" class=\"dataframe\">\n",
       "  <thead>\n",
       "    <tr style=\"text-align: right;\">\n",
       "      <th></th>\n",
       "      <th>date</th>\n",
       "      <th>Appliances</th>\n",
       "      <th>lights</th>\n",
       "      <th>T1</th>\n",
       "      <th>RH_1</th>\n",
       "      <th>T2</th>\n",
       "      <th>RH_2</th>\n",
       "      <th>T3</th>\n",
       "      <th>RH_3</th>\n",
       "      <th>T4</th>\n",
       "      <th>...</th>\n",
       "      <th>T9</th>\n",
       "      <th>RH_9</th>\n",
       "      <th>T_out</th>\n",
       "      <th>Press_mm_hg</th>\n",
       "      <th>RH_out</th>\n",
       "      <th>Windspeed</th>\n",
       "      <th>Visibility</th>\n",
       "      <th>Tdewpoint</th>\n",
       "      <th>rv1</th>\n",
       "      <th>rv2</th>\n",
       "    </tr>\n",
       "  </thead>\n",
       "  <tbody>\n",
       "    <tr>\n",
       "      <th>0</th>\n",
       "      <td>2016-01-11 17:00:00</td>\n",
       "      <td>60</td>\n",
       "      <td>30</td>\n",
       "      <td>19.89</td>\n",
       "      <td>47.596667</td>\n",
       "      <td>19.2</td>\n",
       "      <td>44.790000</td>\n",
       "      <td>19.79</td>\n",
       "      <td>44.730000</td>\n",
       "      <td>19.000000</td>\n",
       "      <td>...</td>\n",
       "      <td>17.033333</td>\n",
       "      <td>45.53</td>\n",
       "      <td>6.600000</td>\n",
       "      <td>733.5</td>\n",
       "      <td>92.0</td>\n",
       "      <td>7.000000</td>\n",
       "      <td>63.000000</td>\n",
       "      <td>5.3</td>\n",
       "      <td>13.275433</td>\n",
       "      <td>13.275433</td>\n",
       "    </tr>\n",
       "    <tr>\n",
       "      <th>1</th>\n",
       "      <td>2016-01-11 17:10:00</td>\n",
       "      <td>60</td>\n",
       "      <td>30</td>\n",
       "      <td>19.89</td>\n",
       "      <td>46.693333</td>\n",
       "      <td>19.2</td>\n",
       "      <td>44.722500</td>\n",
       "      <td>19.79</td>\n",
       "      <td>44.790000</td>\n",
       "      <td>19.000000</td>\n",
       "      <td>...</td>\n",
       "      <td>17.066667</td>\n",
       "      <td>45.56</td>\n",
       "      <td>6.483333</td>\n",
       "      <td>733.6</td>\n",
       "      <td>92.0</td>\n",
       "      <td>6.666667</td>\n",
       "      <td>59.166667</td>\n",
       "      <td>5.2</td>\n",
       "      <td>18.606195</td>\n",
       "      <td>18.606195</td>\n",
       "    </tr>\n",
       "    <tr>\n",
       "      <th>2</th>\n",
       "      <td>2016-01-11 17:20:00</td>\n",
       "      <td>50</td>\n",
       "      <td>30</td>\n",
       "      <td>19.89</td>\n",
       "      <td>46.300000</td>\n",
       "      <td>19.2</td>\n",
       "      <td>44.626667</td>\n",
       "      <td>19.79</td>\n",
       "      <td>44.933333</td>\n",
       "      <td>18.926667</td>\n",
       "      <td>...</td>\n",
       "      <td>17.000000</td>\n",
       "      <td>45.50</td>\n",
       "      <td>6.366667</td>\n",
       "      <td>733.7</td>\n",
       "      <td>92.0</td>\n",
       "      <td>6.333333</td>\n",
       "      <td>55.333333</td>\n",
       "      <td>5.1</td>\n",
       "      <td>28.642668</td>\n",
       "      <td>28.642668</td>\n",
       "    </tr>\n",
       "    <tr>\n",
       "      <th>3</th>\n",
       "      <td>2016-01-11 17:30:00</td>\n",
       "      <td>50</td>\n",
       "      <td>40</td>\n",
       "      <td>19.89</td>\n",
       "      <td>46.066667</td>\n",
       "      <td>19.2</td>\n",
       "      <td>44.590000</td>\n",
       "      <td>19.79</td>\n",
       "      <td>45.000000</td>\n",
       "      <td>18.890000</td>\n",
       "      <td>...</td>\n",
       "      <td>17.000000</td>\n",
       "      <td>45.40</td>\n",
       "      <td>6.250000</td>\n",
       "      <td>733.8</td>\n",
       "      <td>92.0</td>\n",
       "      <td>6.000000</td>\n",
       "      <td>51.500000</td>\n",
       "      <td>5.0</td>\n",
       "      <td>45.410389</td>\n",
       "      <td>45.410389</td>\n",
       "    </tr>\n",
       "    <tr>\n",
       "      <th>4</th>\n",
       "      <td>2016-01-11 17:40:00</td>\n",
       "      <td>60</td>\n",
       "      <td>40</td>\n",
       "      <td>19.89</td>\n",
       "      <td>46.333333</td>\n",
       "      <td>19.2</td>\n",
       "      <td>44.530000</td>\n",
       "      <td>19.79</td>\n",
       "      <td>45.000000</td>\n",
       "      <td>18.890000</td>\n",
       "      <td>...</td>\n",
       "      <td>17.000000</td>\n",
       "      <td>45.40</td>\n",
       "      <td>6.133333</td>\n",
       "      <td>733.9</td>\n",
       "      <td>92.0</td>\n",
       "      <td>5.666667</td>\n",
       "      <td>47.666667</td>\n",
       "      <td>4.9</td>\n",
       "      <td>10.084097</td>\n",
       "      <td>10.084097</td>\n",
       "    </tr>\n",
       "  </tbody>\n",
       "</table>\n",
       "<p>5 rows × 29 columns</p>\n",
       "</div>"
      ],
      "text/plain": [
       "                  date  Appliances  lights     T1       RH_1    T2       RH_2  \\\n",
       "0  2016-01-11 17:00:00          60      30  19.89  47.596667  19.2  44.790000   \n",
       "1  2016-01-11 17:10:00          60      30  19.89  46.693333  19.2  44.722500   \n",
       "2  2016-01-11 17:20:00          50      30  19.89  46.300000  19.2  44.626667   \n",
       "3  2016-01-11 17:30:00          50      40  19.89  46.066667  19.2  44.590000   \n",
       "4  2016-01-11 17:40:00          60      40  19.89  46.333333  19.2  44.530000   \n",
       "\n",
       "      T3       RH_3         T4  ...         T9   RH_9     T_out  Press_mm_hg  \\\n",
       "0  19.79  44.730000  19.000000  ...  17.033333  45.53  6.600000        733.5   \n",
       "1  19.79  44.790000  19.000000  ...  17.066667  45.56  6.483333        733.6   \n",
       "2  19.79  44.933333  18.926667  ...  17.000000  45.50  6.366667        733.7   \n",
       "3  19.79  45.000000  18.890000  ...  17.000000  45.40  6.250000        733.8   \n",
       "4  19.79  45.000000  18.890000  ...  17.000000  45.40  6.133333        733.9   \n",
       "\n",
       "   RH_out  Windspeed  Visibility  Tdewpoint        rv1        rv2  \n",
       "0    92.0   7.000000   63.000000        5.3  13.275433  13.275433  \n",
       "1    92.0   6.666667   59.166667        5.2  18.606195  18.606195  \n",
       "2    92.0   6.333333   55.333333        5.1  28.642668  28.642668  \n",
       "3    92.0   6.000000   51.500000        5.0  45.410389  45.410389  \n",
       "4    92.0   5.666667   47.666667        4.9  10.084097  10.084097  \n",
       "\n",
       "[5 rows x 29 columns]"
      ]
     },
     "execution_count": 3,
     "metadata": {},
     "output_type": "execute_result"
    }
   ],
   "source": [
    "# Checking the head\n",
    "df.head()"
   ]
  },
  {
   "cell_type": "code",
   "execution_count": 4,
   "id": "09152995",
   "metadata": {},
   "outputs": [],
   "source": [
    "# setting T2 as our X and T6 as y\n",
    "X = df['T2']\n",
    "y = df['T6']"
   ]
  },
  {
   "cell_type": "code",
   "execution_count": 19,
   "id": "1799d659",
   "metadata": {},
   "outputs": [],
   "source": [
    "#Turning them into an array\n",
    "X = np.array(X)\n",
    "y = np.array(y)"
   ]
  },
  {
   "cell_type": "code",
   "execution_count": 21,
   "id": "fb05ca29",
   "metadata": {},
   "outputs": [],
   "source": [
    "# Reshaping them\n",
    "X = X.reshape(-1,1)\n",
    "y = y.reshape(-1,1)"
   ]
  },
  {
   "cell_type": "code",
   "execution_count": 22,
   "id": "69bf69eb",
   "metadata": {},
   "outputs": [],
   "source": [
    "# Imports train_test_split\n",
    "from sklearn.model_selection import train_test_split"
   ]
  },
  {
   "cell_type": "code",
   "execution_count": 23,
   "id": "56852cd9",
   "metadata": {},
   "outputs": [],
   "source": [
    "# Splits the dataset into training and testing set\n",
    "X_train, X_test, y_train, y_test = train_test_split(X, y, test_size=0.2, random_state=42)"
   ]
  },
  {
   "cell_type": "code",
   "execution_count": 7,
   "id": "5d9c8078",
   "metadata": {},
   "outputs": [],
   "source": [
    "#Imports Linear regression\n",
    "from sklearn.linear_model import LinearRegression"
   ]
  },
  {
   "cell_type": "code",
   "execution_count": 24,
   "id": "7df55d41",
   "metadata": {},
   "outputs": [],
   "source": [
    "# Creates a linear regression object\n",
    "lr = LinearRegression()"
   ]
  },
  {
   "cell_type": "code",
   "execution_count": 25,
   "id": "dd9dfa2d",
   "metadata": {},
   "outputs": [
    {
     "data": {
      "text/plain": [
       "LinearRegression()"
      ]
     },
     "execution_count": 25,
     "metadata": {},
     "output_type": "execute_result"
    }
   ],
   "source": [
    "# train on the training set\n",
    "lr.fit(X_train, y_train)"
   ]
  },
  {
   "cell_type": "code",
   "execution_count": 26,
   "id": "ebc9fd25",
   "metadata": {},
   "outputs": [],
   "source": [
    "# makes predictions on the test set\n",
    "predicted = lr.predict(X_test)"
   ]
  },
  {
   "cell_type": "code",
   "execution_count": 27,
   "id": "ccb253c5",
   "metadata": {},
   "outputs": [],
   "source": [
    "# Imports r2_score \n",
    "from sklearn.metrics import r2_score"
   ]
  },
  {
   "cell_type": "markdown",
   "id": "4022fb8e",
   "metadata": {},
   "source": [
    "### Q12"
   ]
  },
  {
   "cell_type": "code",
   "execution_count": 28,
   "id": "d718a2aa",
   "metadata": {},
   "outputs": [
    {
     "data": {
      "text/plain": [
       "0.639"
      ]
     },
     "execution_count": 28,
     "metadata": {},
     "output_type": "execute_result"
    }
   ],
   "source": [
    "# Computes the R2 score\n",
    "r2_score = r2_score(y_test, predicted)\n",
    "round(r2_score, 3)"
   ]
  },
  {
   "cell_type": "markdown",
   "id": "7bdf40bd",
   "metadata": {},
   "source": [
    "      \n",
    "      "
   ]
  },
  {
   "cell_type": "code",
   "execution_count": 30,
   "id": "2590ab41",
   "metadata": {},
   "outputs": [],
   "source": [
    "# drop the date and light column\n",
    "df = df.drop(['date', 'lights'], axis =1)"
   ]
  },
  {
   "cell_type": "code",
   "execution_count": 31,
   "id": "b7a4582b",
   "metadata": {},
   "outputs": [],
   "source": [
    "# imports MinMaxScaler\n",
    "from sklearn.preprocessing import MinMaxScaler"
   ]
  },
  {
   "cell_type": "code",
   "execution_count": 32,
   "id": "fae62f76",
   "metadata": {},
   "outputs": [],
   "source": [
    "scaler = MinMaxScaler()"
   ]
  },
  {
   "cell_type": "code",
   "execution_count": 33,
   "id": "45dc1d39",
   "metadata": {},
   "outputs": [],
   "source": [
    "# normalize the data\n",
    "normalized = pd.DataFrame(scaler.fit_transform(df), columns=df.columns)"
   ]
  },
  {
   "cell_type": "code",
   "execution_count": 47,
   "id": "c6974f63",
   "metadata": {},
   "outputs": [
    {
     "data": {
      "text/html": [
       "<div>\n",
       "<style scoped>\n",
       "    .dataframe tbody tr th:only-of-type {\n",
       "        vertical-align: middle;\n",
       "    }\n",
       "\n",
       "    .dataframe tbody tr th {\n",
       "        vertical-align: top;\n",
       "    }\n",
       "\n",
       "    .dataframe thead th {\n",
       "        text-align: right;\n",
       "    }\n",
       "</style>\n",
       "<table border=\"1\" class=\"dataframe\">\n",
       "  <thead>\n",
       "    <tr style=\"text-align: right;\">\n",
       "      <th></th>\n",
       "      <th>Appliances</th>\n",
       "      <th>T1</th>\n",
       "      <th>RH_1</th>\n",
       "      <th>T2</th>\n",
       "      <th>RH_2</th>\n",
       "      <th>T3</th>\n",
       "      <th>RH_3</th>\n",
       "      <th>T4</th>\n",
       "      <th>RH_4</th>\n",
       "      <th>T5</th>\n",
       "      <th>...</th>\n",
       "      <th>T9</th>\n",
       "      <th>RH_9</th>\n",
       "      <th>T_out</th>\n",
       "      <th>Press_mm_hg</th>\n",
       "      <th>RH_out</th>\n",
       "      <th>Windspeed</th>\n",
       "      <th>Visibility</th>\n",
       "      <th>Tdewpoint</th>\n",
       "      <th>rv1</th>\n",
       "      <th>rv2</th>\n",
       "    </tr>\n",
       "  </thead>\n",
       "  <tbody>\n",
       "    <tr>\n",
       "      <th>0</th>\n",
       "      <td>0.046729</td>\n",
       "      <td>0.32735</td>\n",
       "      <td>0.566187</td>\n",
       "      <td>0.225345</td>\n",
       "      <td>0.684038</td>\n",
       "      <td>0.215188</td>\n",
       "      <td>0.746066</td>\n",
       "      <td>0.351351</td>\n",
       "      <td>0.764262</td>\n",
       "      <td>0.175506</td>\n",
       "      <td>...</td>\n",
       "      <td>0.223032</td>\n",
       "      <td>0.677290</td>\n",
       "      <td>0.372990</td>\n",
       "      <td>0.097674</td>\n",
       "      <td>0.894737</td>\n",
       "      <td>0.500000</td>\n",
       "      <td>0.953846</td>\n",
       "      <td>0.538462</td>\n",
       "      <td>0.265449</td>\n",
       "      <td>0.265449</td>\n",
       "    </tr>\n",
       "    <tr>\n",
       "      <th>1</th>\n",
       "      <td>0.046729</td>\n",
       "      <td>0.32735</td>\n",
       "      <td>0.541326</td>\n",
       "      <td>0.225345</td>\n",
       "      <td>0.682140</td>\n",
       "      <td>0.215188</td>\n",
       "      <td>0.748871</td>\n",
       "      <td>0.351351</td>\n",
       "      <td>0.782437</td>\n",
       "      <td>0.175506</td>\n",
       "      <td>...</td>\n",
       "      <td>0.226500</td>\n",
       "      <td>0.678532</td>\n",
       "      <td>0.369239</td>\n",
       "      <td>0.100000</td>\n",
       "      <td>0.894737</td>\n",
       "      <td>0.476190</td>\n",
       "      <td>0.894872</td>\n",
       "      <td>0.533937</td>\n",
       "      <td>0.372083</td>\n",
       "      <td>0.372083</td>\n",
       "    </tr>\n",
       "    <tr>\n",
       "      <th>2</th>\n",
       "      <td>0.037383</td>\n",
       "      <td>0.32735</td>\n",
       "      <td>0.530502</td>\n",
       "      <td>0.225345</td>\n",
       "      <td>0.679445</td>\n",
       "      <td>0.215188</td>\n",
       "      <td>0.755569</td>\n",
       "      <td>0.344745</td>\n",
       "      <td>0.778062</td>\n",
       "      <td>0.175506</td>\n",
       "      <td>...</td>\n",
       "      <td>0.219563</td>\n",
       "      <td>0.676049</td>\n",
       "      <td>0.365488</td>\n",
       "      <td>0.102326</td>\n",
       "      <td>0.894737</td>\n",
       "      <td>0.452381</td>\n",
       "      <td>0.835897</td>\n",
       "      <td>0.529412</td>\n",
       "      <td>0.572848</td>\n",
       "      <td>0.572848</td>\n",
       "    </tr>\n",
       "    <tr>\n",
       "      <th>3</th>\n",
       "      <td>0.037383</td>\n",
       "      <td>0.32735</td>\n",
       "      <td>0.524080</td>\n",
       "      <td>0.225345</td>\n",
       "      <td>0.678414</td>\n",
       "      <td>0.215188</td>\n",
       "      <td>0.758685</td>\n",
       "      <td>0.341441</td>\n",
       "      <td>0.770949</td>\n",
       "      <td>0.175506</td>\n",
       "      <td>...</td>\n",
       "      <td>0.219563</td>\n",
       "      <td>0.671909</td>\n",
       "      <td>0.361736</td>\n",
       "      <td>0.104651</td>\n",
       "      <td>0.894737</td>\n",
       "      <td>0.428571</td>\n",
       "      <td>0.776923</td>\n",
       "      <td>0.524887</td>\n",
       "      <td>0.908261</td>\n",
       "      <td>0.908261</td>\n",
       "    </tr>\n",
       "    <tr>\n",
       "      <th>4</th>\n",
       "      <td>0.046729</td>\n",
       "      <td>0.32735</td>\n",
       "      <td>0.531419</td>\n",
       "      <td>0.225345</td>\n",
       "      <td>0.676727</td>\n",
       "      <td>0.215188</td>\n",
       "      <td>0.758685</td>\n",
       "      <td>0.341441</td>\n",
       "      <td>0.762697</td>\n",
       "      <td>0.178691</td>\n",
       "      <td>...</td>\n",
       "      <td>0.219563</td>\n",
       "      <td>0.671909</td>\n",
       "      <td>0.357985</td>\n",
       "      <td>0.106977</td>\n",
       "      <td>0.894737</td>\n",
       "      <td>0.404762</td>\n",
       "      <td>0.717949</td>\n",
       "      <td>0.520362</td>\n",
       "      <td>0.201611</td>\n",
       "      <td>0.201611</td>\n",
       "    </tr>\n",
       "  </tbody>\n",
       "</table>\n",
       "<p>5 rows × 27 columns</p>\n",
       "</div>"
      ],
      "text/plain": [
       "   Appliances       T1      RH_1        T2      RH_2        T3      RH_3  \\\n",
       "0    0.046729  0.32735  0.566187  0.225345  0.684038  0.215188  0.746066   \n",
       "1    0.046729  0.32735  0.541326  0.225345  0.682140  0.215188  0.748871   \n",
       "2    0.037383  0.32735  0.530502  0.225345  0.679445  0.215188  0.755569   \n",
       "3    0.037383  0.32735  0.524080  0.225345  0.678414  0.215188  0.758685   \n",
       "4    0.046729  0.32735  0.531419  0.225345  0.676727  0.215188  0.758685   \n",
       "\n",
       "         T4      RH_4        T5  ...        T9      RH_9     T_out  \\\n",
       "0  0.351351  0.764262  0.175506  ...  0.223032  0.677290  0.372990   \n",
       "1  0.351351  0.782437  0.175506  ...  0.226500  0.678532  0.369239   \n",
       "2  0.344745  0.778062  0.175506  ...  0.219563  0.676049  0.365488   \n",
       "3  0.341441  0.770949  0.175506  ...  0.219563  0.671909  0.361736   \n",
       "4  0.341441  0.762697  0.178691  ...  0.219563  0.671909  0.357985   \n",
       "\n",
       "   Press_mm_hg    RH_out  Windspeed  Visibility  Tdewpoint       rv1       rv2  \n",
       "0     0.097674  0.894737   0.500000    0.953846   0.538462  0.265449  0.265449  \n",
       "1     0.100000  0.894737   0.476190    0.894872   0.533937  0.372083  0.372083  \n",
       "2     0.102326  0.894737   0.452381    0.835897   0.529412  0.572848  0.572848  \n",
       "3     0.104651  0.894737   0.428571    0.776923   0.524887  0.908261  0.908261  \n",
       "4     0.106977  0.894737   0.404762    0.717949   0.520362  0.201611  0.201611  \n",
       "\n",
       "[5 rows x 27 columns]"
      ]
     },
     "execution_count": 47,
     "metadata": {},
     "output_type": "execute_result"
    }
   ],
   "source": [
    "normalized.head()"
   ]
  },
  {
   "cell_type": "code",
   "execution_count": 49,
   "id": "1efdcb67",
   "metadata": {},
   "outputs": [],
   "source": [
    "X = normalized.drop(['Appliances'], axis=1)\n",
    "y = normalized['Appliances']"
   ]
  },
  {
   "cell_type": "code",
   "execution_count": 50,
   "id": "bdfc38ac",
   "metadata": {},
   "outputs": [
    {
     "data": {
      "text/html": [
       "<div>\n",
       "<style scoped>\n",
       "    .dataframe tbody tr th:only-of-type {\n",
       "        vertical-align: middle;\n",
       "    }\n",
       "\n",
       "    .dataframe tbody tr th {\n",
       "        vertical-align: top;\n",
       "    }\n",
       "\n",
       "    .dataframe thead th {\n",
       "        text-align: right;\n",
       "    }\n",
       "</style>\n",
       "<table border=\"1\" class=\"dataframe\">\n",
       "  <thead>\n",
       "    <tr style=\"text-align: right;\">\n",
       "      <th></th>\n",
       "      <th>T1</th>\n",
       "      <th>RH_1</th>\n",
       "      <th>T2</th>\n",
       "      <th>RH_2</th>\n",
       "      <th>T3</th>\n",
       "      <th>RH_3</th>\n",
       "      <th>T4</th>\n",
       "      <th>RH_4</th>\n",
       "      <th>T5</th>\n",
       "      <th>RH_5</th>\n",
       "      <th>...</th>\n",
       "      <th>T9</th>\n",
       "      <th>RH_9</th>\n",
       "      <th>T_out</th>\n",
       "      <th>Press_mm_hg</th>\n",
       "      <th>RH_out</th>\n",
       "      <th>Windspeed</th>\n",
       "      <th>Visibility</th>\n",
       "      <th>Tdewpoint</th>\n",
       "      <th>rv1</th>\n",
       "      <th>rv2</th>\n",
       "    </tr>\n",
       "  </thead>\n",
       "  <tbody>\n",
       "    <tr>\n",
       "      <th>0</th>\n",
       "      <td>0.32735</td>\n",
       "      <td>0.566187</td>\n",
       "      <td>0.225345</td>\n",
       "      <td>0.684038</td>\n",
       "      <td>0.215188</td>\n",
       "      <td>0.746066</td>\n",
       "      <td>0.351351</td>\n",
       "      <td>0.764262</td>\n",
       "      <td>0.175506</td>\n",
       "      <td>0.381691</td>\n",
       "      <td>...</td>\n",
       "      <td>0.223032</td>\n",
       "      <td>0.677290</td>\n",
       "      <td>0.372990</td>\n",
       "      <td>0.097674</td>\n",
       "      <td>0.894737</td>\n",
       "      <td>0.500000</td>\n",
       "      <td>0.953846</td>\n",
       "      <td>0.538462</td>\n",
       "      <td>0.265449</td>\n",
       "      <td>0.265449</td>\n",
       "    </tr>\n",
       "    <tr>\n",
       "      <th>1</th>\n",
       "      <td>0.32735</td>\n",
       "      <td>0.541326</td>\n",
       "      <td>0.225345</td>\n",
       "      <td>0.682140</td>\n",
       "      <td>0.215188</td>\n",
       "      <td>0.748871</td>\n",
       "      <td>0.351351</td>\n",
       "      <td>0.782437</td>\n",
       "      <td>0.175506</td>\n",
       "      <td>0.381691</td>\n",
       "      <td>...</td>\n",
       "      <td>0.226500</td>\n",
       "      <td>0.678532</td>\n",
       "      <td>0.369239</td>\n",
       "      <td>0.100000</td>\n",
       "      <td>0.894737</td>\n",
       "      <td>0.476190</td>\n",
       "      <td>0.894872</td>\n",
       "      <td>0.533937</td>\n",
       "      <td>0.372083</td>\n",
       "      <td>0.372083</td>\n",
       "    </tr>\n",
       "    <tr>\n",
       "      <th>2</th>\n",
       "      <td>0.32735</td>\n",
       "      <td>0.530502</td>\n",
       "      <td>0.225345</td>\n",
       "      <td>0.679445</td>\n",
       "      <td>0.215188</td>\n",
       "      <td>0.755569</td>\n",
       "      <td>0.344745</td>\n",
       "      <td>0.778062</td>\n",
       "      <td>0.175506</td>\n",
       "      <td>0.380037</td>\n",
       "      <td>...</td>\n",
       "      <td>0.219563</td>\n",
       "      <td>0.676049</td>\n",
       "      <td>0.365488</td>\n",
       "      <td>0.102326</td>\n",
       "      <td>0.894737</td>\n",
       "      <td>0.452381</td>\n",
       "      <td>0.835897</td>\n",
       "      <td>0.529412</td>\n",
       "      <td>0.572848</td>\n",
       "      <td>0.572848</td>\n",
       "    </tr>\n",
       "    <tr>\n",
       "      <th>3</th>\n",
       "      <td>0.32735</td>\n",
       "      <td>0.524080</td>\n",
       "      <td>0.225345</td>\n",
       "      <td>0.678414</td>\n",
       "      <td>0.215188</td>\n",
       "      <td>0.758685</td>\n",
       "      <td>0.341441</td>\n",
       "      <td>0.770949</td>\n",
       "      <td>0.175506</td>\n",
       "      <td>0.380037</td>\n",
       "      <td>...</td>\n",
       "      <td>0.219563</td>\n",
       "      <td>0.671909</td>\n",
       "      <td>0.361736</td>\n",
       "      <td>0.104651</td>\n",
       "      <td>0.894737</td>\n",
       "      <td>0.428571</td>\n",
       "      <td>0.776923</td>\n",
       "      <td>0.524887</td>\n",
       "      <td>0.908261</td>\n",
       "      <td>0.908261</td>\n",
       "    </tr>\n",
       "    <tr>\n",
       "      <th>4</th>\n",
       "      <td>0.32735</td>\n",
       "      <td>0.531419</td>\n",
       "      <td>0.225345</td>\n",
       "      <td>0.676727</td>\n",
       "      <td>0.215188</td>\n",
       "      <td>0.758685</td>\n",
       "      <td>0.341441</td>\n",
       "      <td>0.762697</td>\n",
       "      <td>0.178691</td>\n",
       "      <td>0.380037</td>\n",
       "      <td>...</td>\n",
       "      <td>0.219563</td>\n",
       "      <td>0.671909</td>\n",
       "      <td>0.357985</td>\n",
       "      <td>0.106977</td>\n",
       "      <td>0.894737</td>\n",
       "      <td>0.404762</td>\n",
       "      <td>0.717949</td>\n",
       "      <td>0.520362</td>\n",
       "      <td>0.201611</td>\n",
       "      <td>0.201611</td>\n",
       "    </tr>\n",
       "  </tbody>\n",
       "</table>\n",
       "<p>5 rows × 26 columns</p>\n",
       "</div>"
      ],
      "text/plain": [
       "        T1      RH_1        T2      RH_2        T3      RH_3        T4  \\\n",
       "0  0.32735  0.566187  0.225345  0.684038  0.215188  0.746066  0.351351   \n",
       "1  0.32735  0.541326  0.225345  0.682140  0.215188  0.748871  0.351351   \n",
       "2  0.32735  0.530502  0.225345  0.679445  0.215188  0.755569  0.344745   \n",
       "3  0.32735  0.524080  0.225345  0.678414  0.215188  0.758685  0.341441   \n",
       "4  0.32735  0.531419  0.225345  0.676727  0.215188  0.758685  0.341441   \n",
       "\n",
       "       RH_4        T5      RH_5  ...        T9      RH_9     T_out  \\\n",
       "0  0.764262  0.175506  0.381691  ...  0.223032  0.677290  0.372990   \n",
       "1  0.782437  0.175506  0.381691  ...  0.226500  0.678532  0.369239   \n",
       "2  0.778062  0.175506  0.380037  ...  0.219563  0.676049  0.365488   \n",
       "3  0.770949  0.175506  0.380037  ...  0.219563  0.671909  0.361736   \n",
       "4  0.762697  0.178691  0.380037  ...  0.219563  0.671909  0.357985   \n",
       "\n",
       "   Press_mm_hg    RH_out  Windspeed  Visibility  Tdewpoint       rv1       rv2  \n",
       "0     0.097674  0.894737   0.500000    0.953846   0.538462  0.265449  0.265449  \n",
       "1     0.100000  0.894737   0.476190    0.894872   0.533937  0.372083  0.372083  \n",
       "2     0.102326  0.894737   0.452381    0.835897   0.529412  0.572848  0.572848  \n",
       "3     0.104651  0.894737   0.428571    0.776923   0.524887  0.908261  0.908261  \n",
       "4     0.106977  0.894737   0.404762    0.717949   0.520362  0.201611  0.201611  \n",
       "\n",
       "[5 rows x 26 columns]"
      ]
     },
     "execution_count": 50,
     "metadata": {},
     "output_type": "execute_result"
    }
   ],
   "source": [
    "X.head()"
   ]
  },
  {
   "cell_type": "code",
   "execution_count": 51,
   "id": "06583c74",
   "metadata": {},
   "outputs": [],
   "source": [
    "X_train, X_test, y_train, y_test = train_test_split(X, y, test_size=0.3, random_state=42)"
   ]
  },
  {
   "cell_type": "code",
   "execution_count": 52,
   "id": "2df5423f",
   "metadata": {},
   "outputs": [],
   "source": [
    "linear_model = LinearRegression()"
   ]
  },
  {
   "cell_type": "code",
   "execution_count": 53,
   "id": "7d011756",
   "metadata": {},
   "outputs": [
    {
     "data": {
      "text/plain": [
       "LinearRegression()"
      ]
     },
     "execution_count": 53,
     "metadata": {},
     "output_type": "execute_result"
    }
   ],
   "source": [
    "linear_model.fit(X_train, y_train)"
   ]
  },
  {
   "cell_type": "code",
   "execution_count": 54,
   "id": "923a04f5",
   "metadata": {},
   "outputs": [],
   "source": [
    "prediction = linear_model.predict(X_test)"
   ]
  },
  {
   "cell_type": "code",
   "execution_count": 55,
   "id": "8c5a7622",
   "metadata": {},
   "outputs": [],
   "source": [
    "from sklearn.metrics import mean_absolute_error"
   ]
  },
  {
   "cell_type": "markdown",
   "id": "d7a38e58",
   "metadata": {},
   "source": [
    "### Q13"
   ]
  },
  {
   "cell_type": "code",
   "execution_count": 56,
   "id": "cc3bb0b5",
   "metadata": {},
   "outputs": [],
   "source": [
    "mae = mean_absolute_error(y_test, prediction)"
   ]
  },
  {
   "cell_type": "code",
   "execution_count": 57,
   "id": "f3c50d38",
   "metadata": {},
   "outputs": [
    {
     "data": {
      "text/plain": [
       "0.05"
      ]
     },
     "execution_count": 57,
     "metadata": {},
     "output_type": "execute_result"
    }
   ],
   "source": [
    "round(mae, 3)"
   ]
  },
  {
   "cell_type": "markdown",
   "id": "2fa32939",
   "metadata": {},
   "source": [
    "### Q14"
   ]
  },
  {
   "cell_type": "code",
   "execution_count": 58,
   "id": "be8b53a7",
   "metadata": {},
   "outputs": [
    {
     "data": {
      "text/plain": [
       "45.348"
      ]
     },
     "execution_count": 58,
     "metadata": {},
     "output_type": "execute_result"
    }
   ],
   "source": [
    "rss = np.sum(np.square(y_test - prediction))\n",
    "round(rss, 3)"
   ]
  },
  {
   "cell_type": "code",
   "execution_count": 59,
   "id": "8f6db6e8",
   "metadata": {},
   "outputs": [],
   "source": [
    "from sklearn.metrics import mean_squared_error"
   ]
  },
  {
   "cell_type": "markdown",
   "id": "69d26160",
   "metadata": {},
   "source": [
    "### Q15"
   ]
  },
  {
   "cell_type": "code",
   "execution_count": 60,
   "id": "3423485d",
   "metadata": {},
   "outputs": [
    {
     "data": {
      "text/plain": [
       "0.088"
      ]
     },
     "execution_count": 60,
     "metadata": {},
     "output_type": "execute_result"
    }
   ],
   "source": [
    "rmse = np.sqrt(mean_squared_error(y_test, prediction))\n",
    "round(rmse, 3)"
   ]
  },
  {
   "cell_type": "markdown",
   "id": "11d0eb93",
   "metadata": {},
   "source": [
    "### Q16"
   ]
  },
  {
   "cell_type": "code",
   "execution_count": 64,
   "id": "85ed9fb3",
   "metadata": {},
   "outputs": [
    {
     "data": {
      "text/plain": [
       "0.15"
      ]
     },
     "execution_count": 64,
     "metadata": {},
     "output_type": "execute_result"
    }
   ],
   "source": [
    "from sklearn.metrics import r2_score\n",
    "r2_score = r2_score(y_test, prediction)\n",
    "round(r2_score, 2)"
   ]
  },
  {
   "cell_type": "code",
   "execution_count": 65,
   "id": "284dda30",
   "metadata": {},
   "outputs": [],
   "source": [
    "from sklearn.linear_model import Ridge\n",
    "from sklearn.linear_model import Lasso"
   ]
  },
  {
   "cell_type": "code",
   "execution_count": 66,
   "id": "c4ba485e",
   "metadata": {},
   "outputs": [
    {
     "data": {
      "text/plain": [
       "Ridge(alpha=0.5)"
      ]
     },
     "execution_count": 66,
     "metadata": {},
     "output_type": "execute_result"
    }
   ],
   "source": [
    "ridge_reg = Ridge(alpha=0.5)\n",
    "ridge_reg.fit(X_train, y_train)"
   ]
  },
  {
   "cell_type": "code",
   "execution_count": 67,
   "id": "af4d7446",
   "metadata": {},
   "outputs": [
    {
     "data": {
      "text/plain": [
       "Lasso(alpha=0.001)"
      ]
     },
     "execution_count": 67,
     "metadata": {},
     "output_type": "execute_result"
    }
   ],
   "source": [
    "lasso_reg = Lasso(alpha=0.001)\n",
    "lasso_reg.fit(X_train, y_train)"
   ]
  },
  {
   "cell_type": "markdown",
   "id": "07931892",
   "metadata": {},
   "source": [
    "### Q17"
   ]
  },
  {
   "cell_type": "code",
   "execution_count": 68,
   "id": "72636060",
   "metadata": {},
   "outputs": [],
   "source": [
    "def get_weights_df(model, feat, col_name):\n",
    "#this function returns the weight of every feature\n",
    "    weights = pd.Series(model.coef_, feat.columns).sort_values()\n",
    "    weights_df = pd.DataFrame(weights).reset_index()\n",
    "    weights_df.columns = ['Features', col_name]\n",
    "    weights_df[col_name].round(3)\n",
    "    return weights_df\n",
    "\n",
    "linear_model_weights = get_weights_df(linear_model, X_train, 'Linear_Model_Weight')\n",
    "ridge_weights_df = get_weights_df(ridge_reg, X_train, 'Ridge_Weight')\n",
    "lasso_weights_df = get_weights_df(lasso_reg, X_train, 'Lasso_weight')\n",
    "\n",
    "final_weights = pd.merge(linear_model_weights, ridge_weights_df, on='Features')\n",
    "final_weights = pd.merge(final_weights, lasso_weights_df, on='Features')"
   ]
  },
  {
   "cell_type": "code",
   "execution_count": 69,
   "id": "7a113837",
   "metadata": {},
   "outputs": [
    {
     "data": {
      "text/html": [
       "<div>\n",
       "<style scoped>\n",
       "    .dataframe tbody tr th:only-of-type {\n",
       "        vertical-align: middle;\n",
       "    }\n",
       "\n",
       "    .dataframe tbody tr th {\n",
       "        vertical-align: top;\n",
       "    }\n",
       "\n",
       "    .dataframe thead th {\n",
       "        text-align: right;\n",
       "    }\n",
       "</style>\n",
       "<table border=\"1\" class=\"dataframe\">\n",
       "  <thead>\n",
       "    <tr style=\"text-align: right;\">\n",
       "      <th></th>\n",
       "      <th>Features</th>\n",
       "      <th>Linear_Model_Weight</th>\n",
       "      <th>Ridge_Weight</th>\n",
       "      <th>Lasso_weight</th>\n",
       "    </tr>\n",
       "  </thead>\n",
       "  <tbody>\n",
       "    <tr>\n",
       "      <th>0</th>\n",
       "      <td>RH_2</td>\n",
       "      <td>-0.456698</td>\n",
       "      <td>-0.401134</td>\n",
       "      <td>-0.000000</td>\n",
       "    </tr>\n",
       "    <tr>\n",
       "      <th>1</th>\n",
       "      <td>T_out</td>\n",
       "      <td>-0.321860</td>\n",
       "      <td>-0.250765</td>\n",
       "      <td>0.000000</td>\n",
       "    </tr>\n",
       "    <tr>\n",
       "      <th>2</th>\n",
       "      <td>T2</td>\n",
       "      <td>-0.236178</td>\n",
       "      <td>-0.193880</td>\n",
       "      <td>0.000000</td>\n",
       "    </tr>\n",
       "    <tr>\n",
       "      <th>3</th>\n",
       "      <td>T9</td>\n",
       "      <td>-0.189941</td>\n",
       "      <td>-0.188584</td>\n",
       "      <td>-0.000000</td>\n",
       "    </tr>\n",
       "    <tr>\n",
       "      <th>4</th>\n",
       "      <td>RH_8</td>\n",
       "      <td>-0.157595</td>\n",
       "      <td>-0.156596</td>\n",
       "      <td>-0.000110</td>\n",
       "    </tr>\n",
       "    <tr>\n",
       "      <th>5</th>\n",
       "      <td>RH_out</td>\n",
       "      <td>-0.077671</td>\n",
       "      <td>-0.050541</td>\n",
       "      <td>-0.049557</td>\n",
       "    </tr>\n",
       "    <tr>\n",
       "      <th>6</th>\n",
       "      <td>RH_7</td>\n",
       "      <td>-0.044614</td>\n",
       "      <td>-0.046291</td>\n",
       "      <td>-0.000000</td>\n",
       "    </tr>\n",
       "    <tr>\n",
       "      <th>7</th>\n",
       "      <td>RH_9</td>\n",
       "      <td>-0.039800</td>\n",
       "      <td>-0.041701</td>\n",
       "      <td>-0.000000</td>\n",
       "    </tr>\n",
       "    <tr>\n",
       "      <th>8</th>\n",
       "      <td>T5</td>\n",
       "      <td>-0.015657</td>\n",
       "      <td>-0.020727</td>\n",
       "      <td>-0.000000</td>\n",
       "    </tr>\n",
       "    <tr>\n",
       "      <th>9</th>\n",
       "      <td>T1</td>\n",
       "      <td>-0.003281</td>\n",
       "      <td>-0.021549</td>\n",
       "      <td>0.000000</td>\n",
       "    </tr>\n",
       "    <tr>\n",
       "      <th>10</th>\n",
       "      <td>rv1</td>\n",
       "      <td>0.000770</td>\n",
       "      <td>0.000743</td>\n",
       "      <td>-0.000000</td>\n",
       "    </tr>\n",
       "    <tr>\n",
       "      <th>11</th>\n",
       "      <td>rv2</td>\n",
       "      <td>0.000770</td>\n",
       "      <td>0.000743</td>\n",
       "      <td>-0.000000</td>\n",
       "    </tr>\n",
       "    <tr>\n",
       "      <th>12</th>\n",
       "      <td>Press_mm_hg</td>\n",
       "      <td>0.006839</td>\n",
       "      <td>0.006516</td>\n",
       "      <td>-0.000000</td>\n",
       "    </tr>\n",
       "    <tr>\n",
       "      <th>13</th>\n",
       "      <td>T7</td>\n",
       "      <td>0.010319</td>\n",
       "      <td>0.010021</td>\n",
       "      <td>-0.000000</td>\n",
       "    </tr>\n",
       "    <tr>\n",
       "      <th>14</th>\n",
       "      <td>Visibility</td>\n",
       "      <td>0.012307</td>\n",
       "      <td>0.012032</td>\n",
       "      <td>0.000000</td>\n",
       "    </tr>\n",
       "    <tr>\n",
       "      <th>15</th>\n",
       "      <td>RH_5</td>\n",
       "      <td>0.016006</td>\n",
       "      <td>0.016176</td>\n",
       "      <td>0.000000</td>\n",
       "    </tr>\n",
       "    <tr>\n",
       "      <th>16</th>\n",
       "      <td>RH_4</td>\n",
       "      <td>0.026386</td>\n",
       "      <td>0.024168</td>\n",
       "      <td>0.000000</td>\n",
       "    </tr>\n",
       "    <tr>\n",
       "      <th>17</th>\n",
       "      <td>T4</td>\n",
       "      <td>0.028981</td>\n",
       "      <td>0.027006</td>\n",
       "      <td>-0.000000</td>\n",
       "    </tr>\n",
       "    <tr>\n",
       "      <th>18</th>\n",
       "      <td>Windspeed</td>\n",
       "      <td>0.029183</td>\n",
       "      <td>0.030463</td>\n",
       "      <td>0.002912</td>\n",
       "    </tr>\n",
       "    <tr>\n",
       "      <th>19</th>\n",
       "      <td>RH_6</td>\n",
       "      <td>0.038049</td>\n",
       "      <td>0.035023</td>\n",
       "      <td>-0.000000</td>\n",
       "    </tr>\n",
       "    <tr>\n",
       "      <th>20</th>\n",
       "      <td>RH_3</td>\n",
       "      <td>0.096048</td>\n",
       "      <td>0.094976</td>\n",
       "      <td>0.000000</td>\n",
       "    </tr>\n",
       "    <tr>\n",
       "      <th>21</th>\n",
       "      <td>T8</td>\n",
       "      <td>0.101995</td>\n",
       "      <td>0.100754</td>\n",
       "      <td>0.000000</td>\n",
       "    </tr>\n",
       "    <tr>\n",
       "      <th>22</th>\n",
       "      <td>Tdewpoint</td>\n",
       "      <td>0.117758</td>\n",
       "      <td>0.076668</td>\n",
       "      <td>0.000000</td>\n",
       "    </tr>\n",
       "    <tr>\n",
       "      <th>23</th>\n",
       "      <td>T6</td>\n",
       "      <td>0.236425</td>\n",
       "      <td>0.213316</td>\n",
       "      <td>0.000000</td>\n",
       "    </tr>\n",
       "    <tr>\n",
       "      <th>24</th>\n",
       "      <td>T3</td>\n",
       "      <td>0.290627</td>\n",
       "      <td>0.287408</td>\n",
       "      <td>0.000000</td>\n",
       "    </tr>\n",
       "    <tr>\n",
       "      <th>25</th>\n",
       "      <td>RH_1</td>\n",
       "      <td>0.553547</td>\n",
       "      <td>0.511932</td>\n",
       "      <td>0.017880</td>\n",
       "    </tr>\n",
       "  </tbody>\n",
       "</table>\n",
       "</div>"
      ],
      "text/plain": [
       "       Features  Linear_Model_Weight  Ridge_Weight  Lasso_weight\n",
       "0          RH_2            -0.456698     -0.401134     -0.000000\n",
       "1         T_out            -0.321860     -0.250765      0.000000\n",
       "2            T2            -0.236178     -0.193880      0.000000\n",
       "3            T9            -0.189941     -0.188584     -0.000000\n",
       "4          RH_8            -0.157595     -0.156596     -0.000110\n",
       "5        RH_out            -0.077671     -0.050541     -0.049557\n",
       "6          RH_7            -0.044614     -0.046291     -0.000000\n",
       "7          RH_9            -0.039800     -0.041701     -0.000000\n",
       "8            T5            -0.015657     -0.020727     -0.000000\n",
       "9            T1            -0.003281     -0.021549      0.000000\n",
       "10          rv1             0.000770      0.000743     -0.000000\n",
       "11          rv2             0.000770      0.000743     -0.000000\n",
       "12  Press_mm_hg             0.006839      0.006516     -0.000000\n",
       "13           T7             0.010319      0.010021     -0.000000\n",
       "14   Visibility             0.012307      0.012032      0.000000\n",
       "15         RH_5             0.016006      0.016176      0.000000\n",
       "16         RH_4             0.026386      0.024168      0.000000\n",
       "17           T4             0.028981      0.027006     -0.000000\n",
       "18    Windspeed             0.029183      0.030463      0.002912\n",
       "19         RH_6             0.038049      0.035023     -0.000000\n",
       "20         RH_3             0.096048      0.094976      0.000000\n",
       "21           T8             0.101995      0.100754      0.000000\n",
       "22    Tdewpoint             0.117758      0.076668      0.000000\n",
       "23           T6             0.236425      0.213316      0.000000\n",
       "24           T3             0.290627      0.287408      0.000000\n",
       "25         RH_1             0.553547      0.511932      0.017880"
      ]
     },
     "execution_count": 69,
     "metadata": {},
     "output_type": "execute_result"
    }
   ],
   "source": [
    "final_weights"
   ]
  },
  {
   "cell_type": "code",
   "execution_count": 70,
   "id": "a181c319",
   "metadata": {},
   "outputs": [
    {
     "data": {
      "text/plain": [
       "Ridge(alpha=0.4)"
      ]
     },
     "execution_count": 70,
     "metadata": {},
     "output_type": "execute_result"
    }
   ],
   "source": [
    "ridge_reg = Ridge(alpha=0.4)\n",
    "ridge_reg.fit(X_train, y_train)"
   ]
  },
  {
   "cell_type": "code",
   "execution_count": 71,
   "id": "b618e1cc",
   "metadata": {},
   "outputs": [],
   "source": [
    "ridge_pred = ridge_reg.predict(X_test)"
   ]
  },
  {
   "cell_type": "markdown",
   "id": "f77b4c90",
   "metadata": {},
   "source": [
    "### Q18"
   ]
  },
  {
   "cell_type": "code",
   "execution_count": 72,
   "id": "5d2b862b",
   "metadata": {},
   "outputs": [
    {
     "data": {
      "text/plain": [
       "0.088"
      ]
     },
     "execution_count": 72,
     "metadata": {},
     "output_type": "execute_result"
    }
   ],
   "source": [
    "rmse = np.sqrt(mean_squared_error(y_test, ridge_pred))\n",
    "round(rmse, 3)"
   ]
  },
  {
   "cell_type": "code",
   "execution_count": 73,
   "id": "31dc41a5",
   "metadata": {},
   "outputs": [
    {
     "data": {
      "text/plain": [
       "Lasso(alpha=0.001)"
      ]
     },
     "execution_count": 73,
     "metadata": {},
     "output_type": "execute_result"
    }
   ],
   "source": [
    "lasso_reg = Lasso(alpha=0.001)\n",
    "lasso_reg.fit(X_train, y_train)"
   ]
  },
  {
   "cell_type": "code",
   "execution_count": 74,
   "id": "6abfc1ea",
   "metadata": {},
   "outputs": [],
   "source": [
    "lasso_pred = lasso_reg.predict(X_test)"
   ]
  },
  {
   "cell_type": "markdown",
   "id": "c600e065",
   "metadata": {},
   "source": [
    "### Q20"
   ]
  },
  {
   "cell_type": "code",
   "execution_count": 75,
   "id": "82417e82",
   "metadata": {},
   "outputs": [
    {
     "data": {
      "text/plain": [
       "0.094"
      ]
     },
     "execution_count": 75,
     "metadata": {},
     "output_type": "execute_result"
    }
   ],
   "source": [
    "rmse = np.sqrt(mean_squared_error(y_test, lasso_pred))\n",
    "round(rmse, 3)"
   ]
  },
  {
   "cell_type": "code",
   "execution_count": null,
   "id": "0bd2cc83",
   "metadata": {},
   "outputs": [],
   "source": []
  }
 ],
 "metadata": {
  "kernelspec": {
   "display_name": "Python 3 (ipykernel)",
   "language": "python",
   "name": "python3"
  },
  "language_info": {
   "codemirror_mode": {
    "name": "ipython",
    "version": 3
   },
   "file_extension": ".py",
   "mimetype": "text/x-python",
   "name": "python",
   "nbconvert_exporter": "python",
   "pygments_lexer": "ipython3",
   "version": "3.9.13"
  }
 },
 "nbformat": 4,
 "nbformat_minor": 5
}
